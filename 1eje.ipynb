{
 "metadata": {
  "language_info": {
   "codemirror_mode": {
    "name": "ipython",
    "version": 3
   },
   "file_extension": ".py",
   "mimetype": "text/x-python",
   "name": "python",
   "nbconvert_exporter": "python",
   "pygments_lexer": "ipython3",
   "version": "3.8.5-final"
  },
  "orig_nbformat": 2,
  "kernelspec": {
   "name": "python3",
   "display_name": "Python 3",
   "language": "python"
  }
 },
 "nbformat": 4,
 "nbformat_minor": 2,
 "cells": [
  {
   "cell_type": "code",
   "execution_count": 1,
   "metadata": {},
   "outputs": [
    {
     "output_type": "stream",
     "name": "stdout",
     "text": [
      "[3, 2, 5, 1, 2]\n5\n"
     ]
    }
   ],
   "source": [
    "#Primer ejercicio\n",
    "lista=[]\n",
    "for x in range(5):\n",
    "    valor = int(input(\"Digite un valor entero: \"))\n",
    "    lista.append(valor)\n",
    "mayor=lista[0]\n",
    "for x in range(1,5):\n",
    "    if lista[x]>mayor:\n",
    "        mayor=lista[x]\n",
    "print(lista)\n",
    "print(mayor)"
   ]
  },
  {
   "cell_type": "code",
   "execution_count": 28,
   "metadata": {},
   "outputs": [
    {
     "output_type": "stream",
     "name": "stdout",
     "text": [
      "[1, 4, 0, 2, 5]\n0\n"
     ]
    }
   ],
   "source": [
    "lista=[]\n",
    "for x in range(5):\n",
    "    valor = int(input(\"Digite un valor entero: \"))\n",
    "    lista.append(valor)\n",
    "menor=lista[0]\n",
    "for x in range(1,5):\n",
    "    if lista[x]<menor:\n",
    "        menor=lista[x]\n",
    "print(lista)\n",
    "print(menor)"
   ]
  },
  {
   "source": [
    "#Segundo ejercicio\n",
    "lista1=[]\n",
    "def operaciones():\n",
    "    a=int(input(\"Digite numero\"))\n",
    "    b=int(input(\"Digite numero\"))\n",
    "    suma=a+b\n",
    "    lista1.append(suma)\n",
    "    resta=a-b\n",
    "    lista1.append(resta)\n",
    "    multiplicacion=a*b\n",
    "    lista1.append(multiplicacion)\n",
    "    division=float(a/b)\n",
    "    lista1.append(division)\n",
    "\n",
    "operaciones()\n",
    "print(lista1)\n"
   ],
   "cell_type": "code",
   "metadata": {},
   "execution_count": 53,
   "outputs": [
    {
     "output_type": "stream",
     "name": "stdout",
     "text": [
      "[8, 2, 15, 1.6666666666666667]\n"
     ]
    }
   ]
  },
  {
   "cell_type": "code",
   "execution_count": 44,
   "metadata": {},
   "outputs": [
    {
     "output_type": "stream",
     "name": "stdout",
     "text": [
      "Los numeros oredenados: \n['0', '1', '2', '4', '5']\n"
     ]
    }
   ],
   "source": [
    "#Tercer ejercicio\n",
    "lista= [] \n",
    "for x in range(5):\n",
    "    numero = input(\"Digite un numero:\")  \n",
    "    lista.append(numero)  \n",
    "lista.sort() \n",
    "print(\"Los numeros oredenados: \")\n",
    "print(lista)\n"
   ]
  },
  {
   "cell_type": "code",
   "execution_count": 46,
   "metadata": {},
   "outputs": [
    {
     "output_type": "stream",
     "name": "stdout",
     "text": [
      "lista de articulos y precios: \n",
      "papa 600\n",
      "pan 2000\n",
      "arroz 4000\n",
      "El articulo de mayor precio es... arroz su precio es de... 4000\n",
      "Articulos precio menor importa son \n",
      "papa 600\n",
      "Articulos precio menor importa son \n",
      "pan 2000\n"
     ]
    }
   ],
   "source": [
    "#Cuarto ejercicio\n",
    "def cargar():\n",
    "    articulos=[]\n",
    "    precios=[]\n",
    "    for j in range(3):\n",
    "        articulo=input(\"Digite el nombre del articulo \")\n",
    "        articulos.append(articulo)\n",
    "        precio=int(input(\"Digite el precio del articulo \"))\n",
    "        precios.append(precio)\n",
    "    return [articulos,precios]\n",
    "\n",
    "def imprimir(articulos,precios):\n",
    "    print(\"lista de articulos y precios: \")\n",
    "    for j in range(len(articulos)):\n",
    "        print(articulos[j],precios[j])\n",
    "\n",
    "def preciomayor(articulos,precios):\n",
    "    mayor=precios[0]\n",
    "    posicion=0\n",
    "    for j in range(1,len(precios)):\n",
    "        if precios[j]>mayor:\n",
    "            mayor=precios[j]\n",
    "            posicion=j\n",
    "    print(f\"El articulo de mayor precio es... {articulos[posicion]} su precio es de... {mayor}\")\n",
    "\n",
    "def consultarprecio(articulos,precios):\n",
    "    valor=int(input(\"Digite un importa para ver los articulos con precio menor \"))\n",
    "    for j in range(len(precios)):\n",
    "        if precios[j]<=valor:\n",
    "            print(\"Articulos precio menor importa son \")\n",
    "            print(articulos[j],precios[j])\n",
    "\n",
    "articulos,precios=cargar()\n",
    "imprimir(articulos,precios)\n",
    "preciomayor(articulos,precios)\n",
    "consultarprecio(articulos,precios)"
   ]
  },
  {
   "cell_type": "code",
   "execution_count": 47,
   "metadata": {},
   "outputs": [
    {
     "output_type": "stream",
     "name": "stdout",
     "text": [
      "Listado completo del diccionario\n",
      "dog perro\n",
      "cat gato\n",
      "En castellano significa: gato\n"
     ]
    }
   ],
   "source": [
    "#Quinto ejercicio\n",
    "def cargar():\n",
    "    diccionario={}\n",
    "    continua=\"s\"\n",
    "    while continua==\"s\":\n",
    "        caste=input(\"Ingrese palabra en castellano:\")\n",
    "        ing=input(\"Ingrese palabra en ingles:\")\n",
    "        diccionario[ing]=caste\n",
    "        continua=input(\"Quiere cargar otra palabra:[s/n]\")\n",
    "    return diccionario\n",
    "\n",
    "\n",
    "def imprimir(diccionario):\n",
    "    print(\"Listado completo del diccionario\")\n",
    "    for ingles in diccionario:\n",
    "        print(ingles,diccionario[ingles])\n",
    "\n",
    "\n",
    "def consulta_palabra(diccionario):\n",
    "    pal=input(\"Ingrese la palabra en ingles a consultar:\")\n",
    "    if pal in diccionario:\n",
    "        print(\"En castellano significa:\",diccionario[pal])\n",
    "    else:\n",
    "        print(\"la palabara no esta en el diccionario\")\n",
    "\n",
    "diccionario=cargar()\n",
    "imprimir(diccionario)\n",
    "consulta_palabra(diccionario)"
   ]
  },
  {
   "cell_type": "code",
   "execution_count": 48,
   "metadata": {},
   "outputs": [
    {
     "output_type": "stream",
     "name": "stdout",
     "text": [
      "Lista de productos:\n",
      "1 salsa 1000.0 1\n",
      "2 pan 2000.0 0\n",
      "salsa 1000.0 1\n",
      "Lista de articulos con stock en cero:\n",
      "2 pan 2000.0 0\n"
     ]
    }
   ],
   "source": [
    "#Sexto ejercicio\n",
    "def cargar():\n",
    "    productos={}\n",
    "    continua=\"s\"\n",
    "    while continua==\"s\":\n",
    "        codigo=int(input(\"Ingrese el codigo del producto:\"))\n",
    "        descripcion=input(\"Ingrese la descripcion:\")\n",
    "        precio=float(input(\"Ingrese el precio:\"))\n",
    "        stock=int(input(\"Ingrese el stock actual:\"))\n",
    "        productos[codigo]=(descripcion,precio,stock)\n",
    "        continua=input(\"Desea cargar otro producto[s/n]?\")\n",
    "    return productos\n",
    "\n",
    "def imprimir(productos):\n",
    "    print(\"Lista de productos:\")\n",
    "    for codigo in productos:\n",
    "        print(codigo,productos[codigo][0],productos[codigo][1],productos[codigo][2])\n",
    "\n",
    "def consulta(productos):\n",
    "    codigo=int(input(\"Ingrese el codigo del articulo a consultar:\"))\n",
    "    if codigo in productos:\n",
    "        print(productos[codigo][0],productos[codigo][1],productos[codigo][2])\n",
    "        \n",
    "def listado_stock_cero(productos):\n",
    "    print(\"Lista de articulos con stock en cero:\")\n",
    "    for codigo in productos:\n",
    "        if productos[codigo][2]==0:\n",
    "            print(codigo,productos[codigo][0],productos[codigo][1],productos[codigo][2])\n",
    "\n",
    "productos=cargar()\n",
    "imprimir(productos)\n",
    "consulta(productos)\n",
    "listado_stock_cero(productos)"
   ]
  },
  {
   "cell_type": "code",
   "execution_count": null,
   "metadata": {},
   "outputs": [],
   "source": []
  }
 ]
}